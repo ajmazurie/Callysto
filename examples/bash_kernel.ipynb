{
 "cells": [
  {
   "cell_type": "markdown",
   "metadata": {},
   "source": [
    "# SLURM Kernel Demonstration"
   ]
  },
  {
   "cell_type": "code",
   "execution_count": 2,
   "metadata": {
    "collapsed": false
   },
   "outputs": [
    {
     "name": "stderr",
     "output_type": "stream",
     "text": [
      "execution aborted by user"
     ]
    }
   ],
   "source": [
    "sleep 10"
   ]
  },
  {
   "cell_type": "code",
   "execution_count": 2,
   "metadata": {
    "collapsed": false
   },
   "outputs": [
    {
     "name": "stdout",
     "output_type": "stream",
     "text": [
      "1 row affected; no row returned\n",
      "1 row affected; no row returned\n"
     ]
    }
   ],
   "source": [
    "INSERT INTO stocks VALUES ('2006-01-05', 'é', 'RHAT', 100, 35.14);\n",
    "INSERT INTO stocks VALUES ('2006-01-06', 'SELL', 'RHAT', 100, 33.14);"
   ]
  },
  {
   "cell_type": "code",
   "execution_count": 3,
   "metadata": {
    "collapsed": false
   },
   "outputs": [
    {
     "data": {
      "text/html": [
       "<table>\n",
       "<tr><th>date</th><th>trans</th><th>symbol</th><th>qty</th><th>price</th></tr>\n",
       "<tr><td>2006-01-05</td><td>é</td><td>RHAT</td><td>100.0</td><td>35.14</td></tr>\n",
       "<tr><td>2006-01-06</td><td>SELL</td><td>RHAT</td><td>100.0</td><td>33.14</td></tr>\n",
       "</table>"
      ]
     },
     "metadata": {},
     "output_type": "display_data"
    },
    {
     "name": "stdout",
     "output_type": "stream",
     "text": [
      "3 rows returned\n"
     ]
    }
   ],
   "source": [
    "SELECT * FROM stocks;"
   ]
  },
  {
   "cell_type": "code",
   "execution_count": 4,
   "metadata": {
    "collapsed": false
   },
   "outputs": [
    {
     "data": {
      "text/html": [
       "<table>\n",
       "<tr><th>date</th><th>trans</th><th>symbol</th><th>qty</th><th>price</th></tr>\n",
       "<tr><td>2006-01-06</td><td>SELL</td><td>RHAT</td><td>100.0</td><td>33.14</td></tr>\n",
       "</table>"
      ]
     },
     "metadata": {},
     "output_type": "display_data"
    },
    {
     "name": "stdout",
     "output_type": "stream",
     "text": [
      "2 rows returned\n"
     ]
    }
   ],
   "source": [
    "SELECT * FROM stocks WHERE (trans == \"SELL\")"
   ]
  },
  {
   "cell_type": "code",
   "execution_count": 5,
   "metadata": {
    "collapsed": false
   },
   "outputs": [
    {
     "name": "stdout",
     "output_type": "stream",
     "text": [
      "no row returned\n"
     ]
    }
   ],
   "source": [
    "DROP TABLE stocks;"
   ]
  },
  {
   "cell_type": "code",
   "execution_count": null,
   "metadata": {
    "collapsed": true
   },
   "outputs": [],
   "source": []
  }
 ],
 "metadata": {
  "kernelspec": {
   "display_name": "Hyalite Kernel",
   "language": "bash",
   "name": "hyalite kernel"
  },
  "language_info": {
   "file_extension": ".sh",
   "mimetype": "text/x-sh",
   "name": "bash",
   "version": "KERNEL_LANGUAGE_VERSION_PLACEHOLDER"
  }
 },
 "nbformat": 4,
 "nbformat_minor": 0
}
