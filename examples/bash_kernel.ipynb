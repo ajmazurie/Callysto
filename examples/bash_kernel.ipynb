{
 "cells": [
  {
   "cell_type": "markdown",
   "metadata": {},
   "source": [
    "# BASH Kernel (Demonstration)\n",
    "This is a demonstration of a [BASH](https://en.wikipedia.org/wiki/Bash_%28Unix_shell%29) kernel built with the [Callysto](https://github.com/ajmazurie/Callysto) project.\n",
    "\n",
    "Any text written in the cells of this notebook will be considered a BASH command, and executed correspondingly. Results of the command are printed as they would in a terminal.\n",
    "\n",
    "*Note: This kernel makes use of the [pexpect](https://pexpect.readthedocs.org/en/stable/) library to handle the communication with a BASH sub-process, similar to the [bash_kernel](https://github.com/takluyver/bash_kernel) kernel provided with Jupyter.*"
   ]
  },
  {
   "cell_type": "code",
   "execution_count": 1,
   "metadata": {
    "collapsed": false
   },
   "outputs": [
    {
     "name": "stdout",
     "output_type": "stream",
     "text": [
      "total 2304\r\n",
      "drwxr-xr-x  13 ajmazurie  staff     442 Feb 25 16:07 .\r\n",
      "drwxr-xr-x  16 ajmazurie  staff     544 Feb 25 16:08 ..\r\n",
      "-rw-r--r--@  1 ajmazurie  staff    6148 Feb 25 13:47 .DS_Store\r\n",
      "drwxr-xr-x   6 ajmazurie  staff     204 Feb 25 12:35 .ipynb_checkpoints\r\n",
      "drwxr-xr-x   6 ajmazurie  staff     204 Feb 25 16:08 bash_kernel\r\n",
      "-rw-r--r--   1 ajmazurie  staff    3195 Feb 25 16:07 bash_kernel.ipynb\r\n",
      "drwxr-xr-x   6 ajmazurie  staff     204 Feb 25 13:28 neo4j_kernel\r\n",
      "-rw-r--r--   1 ajmazurie  staff   85439 Feb 25 13:46 neo4j_kernel.ipynb\r\n",
      "-rw-------@  1 ajmazurie  staff  790330 Feb 25 13:37 neo4j_kernel.png\r\n",
      "drwxr-xr-x   7 ajmazurie  staff     238 Feb 25 12:45 sql_kernel\r\n",
      "-rw-r--r--   1 ajmazurie  staff    4641 Feb 25 13:46 sql_kernel.ipynb\r\n",
      "-rw-------@  1 ajmazurie  staff  215655 Feb 25 13:47 sql_kernel.png\r\n",
      "drwxr-xr-x   2 ajmazurie  staff      68 Feb 25 16:06 vega_kernel\r\n"
     ]
    }
   ],
   "source": [
    "ls -la"
   ]
  },
  {
   "cell_type": "markdown",
   "metadata": {},
   "source": [
    "Here we are attempting to run a command that does not exist, resulting in an error:"
   ]
  },
  {
   "cell_type": "code",
   "execution_count": 2,
   "metadata": {
    "collapsed": false
   },
   "outputs": [
    {
     "name": "stdout",
     "output_type": "stream",
     "text": [
      "bash: foo: command not found\r\n"
     ]
    },
    {
     "name": "stderr",
     "output_type": "stream",
     "text": [
      "Process returned a non-zero exit code: 127"
     ]
    }
   ],
   "source": [
    "foo"
   ]
  },
  {
   "cell_type": "markdown",
   "metadata": {},
   "source": [
    "### Roadmap\n",
    "- add a pre-flight magic command to connect to a server through SSH (using [pxssh](http://pexpect.readthedocs.org/en/stable/_modules/pexpect/pxssh.html))\n",
    "- add command completion (maybe)"
   ]
  }
 ],
 "metadata": {
  "kernelspec": {
   "display_name": "Bash Kernel",
   "language": "bash",
   "name": "bash kernel"
  },
  "language_info": {
   "file_extension": ".sh",
   "mimetype": "text/x-sh",
   "name": "bash",
   "version": "KERNEL_LANGUAGE_VERSION_PLACEHOLDER"
  }
 },
 "nbformat": 4,
 "nbformat_minor": 0
}
