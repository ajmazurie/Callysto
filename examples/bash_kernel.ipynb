{
 "cells": [
  {
   "cell_type": "markdown",
   "metadata": {},
   "source": [
    "# BASH Kernel (Demonstration)\n",
    "This is a demonstration of a simple BASH kernel built on top of the [Callysto](https://github.com/ajmazurie/Callysto) project.\n",
    "\n",
    "This kernel makes use of the [pexpect](https://pexpect.readthedocs.org/en/stable/) library to handle the communication with a BASH sub-process, similar to the [bash_kernel](https://github.com/takluyver/bash_kernel) kernel provided with Jupyter."
   ]
  },
  {
   "cell_type": "code",
   "execution_count": null,
   "metadata": {
    "collapsed": false
   },
   "outputs": [],
   "source": [
    "ls"
   ]
  },
  {
   "cell_type": "code",
   "execution_count": null,
   "metadata": {
    "collapsed": true
   },
   "outputs": [],
   "source": []
  }
 ],
 "metadata": {
  "kernelspec": {
   "display_name": "Bash Kernel",
   "language": "bash",
   "name": "bash kernel"
  },
  "language_info": {
   "file_extension": ".sh",
   "mimetype": "text/x-sh",
   "name": "bash",
   "version": "KERNEL_LANGUAGE_VERSION_PLACEHOLDER"
  }
 },
 "nbformat": 4,
 "nbformat_minor": 0
}
