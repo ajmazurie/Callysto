{
 "cells": [
  {
   "cell_type": "markdown",
   "metadata": {},
   "source": [
    "# SQL Kernel (Demonstration)\n",
    "This is a demonstration of a very simple, yet powerful SQL kernel for Jupyter built on top of the [Callysto](https://github.com/ajmazurie/Callysto) project.\n",
    "\n",
    "Upon creation this kernel creates a [SQLite](https://www.sqlite.org/) database which can then be manipulated by inputing SQL commands. Results are then displayed through meaningful messages or even tables, which makes this kernel excellent for teaching students about databases:"
   ]
  },
  {
   "cell_type": "code",
   "execution_count": 10,
   "metadata": {
    "collapsed": false
   },
   "outputs": [
    {
     "name": "stdout",
     "output_type": "stream",
     "text": [
      "2 statements received\n",
      "statement 1 (DROP): no rows returned\n",
      "statement 2 (CREATE): no rows returned\n"
     ]
    }
   ],
   "source": [
    "-- drop the table if it already exists\n",
    "DROP TABLE IF EXISTS stocks;\n",
    "\n",
    "-- then create a new one\n",
    "CREATE TABLE stocks (\n",
    "    transaction_date TEXT,\n",
    "    transaction_type TEXT,\n",
    "    symbol TEXT,\n",
    "    qty REAL,\n",
    "    price REAL)"
   ]
  },
  {
   "cell_type": "code",
   "execution_count": 11,
   "metadata": {
    "collapsed": false
   },
   "outputs": [
    {
     "name": "stdout",
     "output_type": "stream",
     "text": [
      "2 statements received\n",
      "statement 1 (INSERT): 1 row affected; no rows returned\n",
      "statement 2 (INSERT): 1 row affected; no rows returned\n"
     ]
    }
   ],
   "source": [
    "-- insert some example data into this table\n",
    "INSERT INTO stocks VALUES ('2006-01-05', 'BUY', 'RHAT', 100, 35.14);\n",
    "INSERT INTO stocks VALUES ('2006-01-06', 'SELL', 'RHAT', 100, 33.14);"
   ]
  },
  {
   "cell_type": "code",
   "execution_count": 12,
   "metadata": {
    "collapsed": false
   },
   "outputs": [
    {
     "name": "stdout",
     "output_type": "stream",
     "text": [
      "1 statement received\n"
     ]
    },
    {
     "data": {
      "text/html": [
       "<table>\n",
       "<tr><th>transaction_date</th><th>transaction_type</th><th>symbol</th><th>qty</th><th>price</th></tr>\n",
       "<tr><td>2006-01-05</td><td>BUY</td><td>RHAT</td><td>100.0</td><td>35.14</td></tr>\n",
       "<tr><td>2006-01-06</td><td>SELL</td><td>RHAT</td><td>100.0</td><td>33.14</td></tr>\n",
       "</table>"
      ]
     },
     "metadata": {},
     "output_type": "display_data"
    },
    {
     "name": "stdout",
     "output_type": "stream",
     "text": [
      "2 rows returned\n"
     ]
    }
   ],
   "source": [
    "-- show the whole content of the table\n",
    "SELECT * FROM stocks;"
   ]
  },
  {
   "cell_type": "code",
   "execution_count": 13,
   "metadata": {
    "collapsed": false
   },
   "outputs": [
    {
     "name": "stdout",
     "output_type": "stream",
     "text": [
      "1 statement received\n"
     ]
    },
    {
     "data": {
      "text/html": [
       "<table>\n",
       "<tr><th>transaction_date</th><th>transaction_type</th><th>symbol</th><th>qty</th><th>price</th></tr>\n",
       "<tr><td>2006-01-06</td><td>SELL</td><td>RHAT</td><td>100.0</td><td>33.14</td></tr>\n",
       "</table>"
      ]
     },
     "metadata": {},
     "output_type": "display_data"
    },
    {
     "name": "stdout",
     "output_type": "stream",
     "text": [
      "1 row returned\n"
     ]
    }
   ],
   "source": [
    "SELECT * FROM stocks WHERE (transaction_type == \"SELL\")"
   ]
  },
  {
   "cell_type": "code",
   "execution_count": 14,
   "metadata": {
    "collapsed": false
   },
   "outputs": [
    {
     "name": "stdout",
     "output_type": "stream",
     "text": [
      "1 statement received\n",
      "no rows returned\n"
     ]
    }
   ],
   "source": [
    "DROP TABLE stocks;"
   ]
  }
 ],
 "metadata": {
  "kernelspec": {
   "display_name": "SQL Kernel",
   "language": "sql",
   "name": "sql kernel"
  },
  "language_info": {
   "file_extension": ".sql",
   "mimetype": "application/sql",
   "name": "sql",
   "version": "SQL:2011"
  }
 },
 "nbformat": 4,
 "nbformat_minor": 0
}
